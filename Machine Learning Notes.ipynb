{
 "cells": [
  {
   "cell_type": "markdown",
   "metadata": {},
   "source": [
    "# Summary of paper- \"A Few Useful Things to Know about Machine Learning\"\n",
    "\n",
    "* It is generalization that counts, i.e. performance on the test set, unknown data.\n",
    "\n",
    "* Only data is not enough. Choosing the right representation based on the problem. If we have knowledge about probabilistic dependencies, graphical models are a good fit.\n",
    "\n",
    "* Overfitting. bias and variance tradeoff.  \n",
    "  There is a dataset with the true underlying relationship is $Y = f(X) + \\epsilon$. The estimated function is $\\hat{f}$. The expected squared prediction error at x can be expressed as\n",
    "  \\begin{aligned} E[(\\hat{f}(x) - Y)^2]\n",
    "  & = E[(\\hat{f}(x) - (f(x) + \\epsilon))^2] \\\\\\\n",
    "  & = E[(\\hat{f}(x) - E[\\hat{f}(x)] + E[\\hat{f}(x)] - (f(x) + \\epsilon))^2] \\\\\\\n",
    "  & = E[(\\hat{f}(x) - E[\\hat{f}(x)]^2 + E [E[\\hat{f}(x) - f(x)]^2 + E[\\epsilon]^2\n",
    "  \\end{aligned}\n",
    "  \n",
    "  The first term is the variance. It is error due to variation in prediction. The second term is the bias. It is the error related to how much the average predicted value is off from the actual value. The last term is the irreducible error.\n",
    "\n",
    "* Intuition fails in high dimension.  \n",
    "  the curse of dimensionality. In high dimension data is spare. Nearest examples are not near enough. \n",
    "  (provide example of relationship in 1d, 2d amd 3d)\n",
    "\n",
    "* Theoritical guarantees are not what they seem.  \n",
    "  Bounds for number for examples. They do not reflect generalization. Provides guarantee only around number of examples needed so that with a high probability, the classifier generated will be consistent (i.e. classify all training examples correctly). Also the bound is logarithmic in cardinality of hypothesis space (number of possible functions), in some cases the number of possible function is double exponential- => bound is too loose.\n",
    "  Asymptotic guarantees- given infinite amount of data, correct classifier will be generated. Not useful is practice.\n",
    "\n",
    "* Feature Engineering is important  \n",
    "  (Discuss about XOR here)\n",
    "  \n",
    "* More data beats a clever algorithm\n",
    "\n",
    "* Learn many models, not just one.  \n",
    "  Bagging and boosting.\n",
    "  \n",
    "* Simplicity does not mean accurancy  \n",
    "  simpler hypotheses should be preferred because simplicity is a virtue in its own right, not because of a hypothetical connection with accuracy. A learner with a larger hypothesis space that tries fewer hypotheses from it is less likely to overfit than one that tries more hypotheses from a smaller space.\n",
    "  \n",
    "* Representable does not mean learnable  \n",
    "  Essentially all representations used in variable-size learners have associated theorems of the form “Every function can be represented, or approximated arbitrarily closely, using this representation.” But this does not mean much. The representation has to be compact and easily learnable.\n",
    "  \n",
    "* Correlation does not imply causation  \n",
    "  Learning algorithms learn correlation. For example, there is no notion of causality in phys- ical laws. Whether or not causality really exists is a deep philosophical question with no definitive answer.\n",
    "\n",
    "  \n"
   ]
  }
 ],
 "metadata": {
  "kernelspec": {
   "display_name": "Python 2",
   "language": "python",
   "name": "python2"
  },
  "language_info": {
   "codemirror_mode": {
    "name": "ipython",
    "version": 2
   },
   "file_extension": ".py",
   "mimetype": "text/x-python",
   "name": "python",
   "nbconvert_exporter": "python",
   "pygments_lexer": "ipython2",
   "version": "2.7.11"
  }
 },
 "nbformat": 4,
 "nbformat_minor": 0
}
